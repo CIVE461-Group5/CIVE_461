{
  "cells": [
    {
      "cell_type": "markdown",
      "metadata": {
        "id": "view-in-github",
        "colab_type": "text"
      },
      "source": [
        "<a href=\"https://colab.research.google.com/github/CIVE461-Group5/CIVE_461/blob/main/G03_EDWARDS_CLARK_FEHLHAFER_DEMAYO.ipynb\" target=\"_parent\"><img src=\"https://colab.research.google.com/assets/colab-badge.svg\" alt=\"Open In Colab\"/></a>"
      ]
    },
    {
      "cell_type": "markdown",
      "metadata": {
        "id": "kKujLqOi421k"
      },
      "source": [
        "Your first task is to install Biogeme. Instructions are given on the package webpage: https://biogeme.epfl.ch/install.html"
      ]
    },
    {
      "cell_type": "code",
      "execution_count": null,
      "metadata": {
        "colab": {
          "base_uri": "https://localhost:8080/"
        },
        "id": "AIFlnd6vAAJk",
        "outputId": "de3b9255-0b11-4e16-e7aa-a61231bc37e6"
      },
      "outputs": [
        {
          "output_type": "stream",
          "name": "stdout",
          "text": [
            "Drive already mounted at /content/drive; to attempt to forcibly remount, call drive.mount(\"/content/drive\", force_remount=True).\n"
          ]
        }
      ],
      "source": [
        "import os, sys\n",
        "from google.colab import drive\n",
        "drive.mount('/content/drive')\n",
        "nb_path = '/content/notebooks'\n",
        "#os.symlink('/content/drive/My Drive/Colab Notebooks', nb_path)\n",
        "sys.path.insert(0,nb_path)\n",
        "#!pip install --target=$nb_path biogeme"
      ]
    },
    {
      "cell_type": "code",
      "execution_count": null,
      "metadata": {
        "id": "zzz0ElE0421m"
      },
      "outputs": [],
      "source": [
        "# Load packages\n",
        "import pandas as pd\n",
        "import biogeme.database as db\n",
        "import biogeme.biogeme as bio\n",
        "import biogeme.models as models\n",
        "import biogeme.messaging as msg\n",
        "from biogeme.expressions import Beta, Variable, Derive\n",
        "\n",
        "# Change me after the first run to save some time\n",
        "FIRST_RUN = True"
      ]
    },
    {
      "cell_type": "code",
      "execution_count": null,
      "metadata": {
        "colab": {
          "base_uri": "https://localhost:8080/"
        },
        "id": "xaTKStwAm94R",
        "outputId": "ac658298-1877-4962-c935-2c1c853f74d5"
      },
      "outputs": [
        {
          "output_type": "stream",
          "name": "stdout",
          "text": [
            "Drive already mounted at /content/drive; to attempt to forcibly remount, call drive.mount(\"/content/drive\", force_remount=True).\n"
          ]
        }
      ],
      "source": [
        "from google.colab import drive\n",
        "drive.mount('/content/drive')"
      ]
    },
    {
      "cell_type": "code",
      "execution_count": null,
      "metadata": {
        "colab": {
          "base_uri": "https://localhost:8080/"
        },
        "id": "5PT4_b7w421n",
        "outputId": "41e5696a-ccf6-4b9f-ecf9-27dc7753123d"
      },
      "outputs": [
        {
          "output_type": "stream",
          "name": "stderr",
          "text": [
            "<ipython-input-143-4ad41d79b5cd>:4: DtypeWarning: Columns (26,28,67,91,122,124,137,138,153,154) have mixed types. Specify dtype option on import or set low_memory=False.\n",
            "  trip_df = pd.read_csv(\"/content/drive/MyDrive/CIVE 461/CIVE461-Python/CIVE461/CIVE_461-main/Group Project/Data/trips_all.csv\")\n",
            "<ipython-input-143-4ad41d79b5cd>:6: DtypeWarning: Columns (58) have mixed types. Specify dtype option on import or set low_memory=False.\n",
            "  hh_df = pd.read_csv(\"/content/drive/MyDrive/CIVE 461/CIVE461-Python/CIVE461/CIVE_461-main/Group Project/Data/hh_all.csv\")\n",
            "<ipython-input-143-4ad41d79b5cd>:7: DtypeWarning: Columns (2,3,17,53,61,63,85,86,87,115,143,144,145,158,170) have mixed types. Specify dtype option on import or set low_memory=False.\n",
            "  per_df = pd.read_csv(\"/content/drive/MyDrive/CIVE 461/CIVE461-Python/CIVE461/CIVE_461-main/Group Project/Data/per_all.csv\")\n"
          ]
        }
      ],
      "source": [
        "if FIRST_RUN:\n",
        "    # Load in the trips csv file\n",
        "    # As written, this will search back one directory level from the current file and in a \"Data\" folder containing the datasets. The reference will be different unless you define the same directory structure.\n",
        "    trip_df = pd.read_csv(\"/content/drive/MyDrive/CIVE 461/CIVE461-Python/CIVE461/CIVE_461-main/Group Project/Data/trips_all.csv\")\n",
        "    # We want to be able to filter by home location (not given in trip data) and include hh and person details so need hh_all.csv/per_all.csv\n",
        "    hh_df = pd.read_csv(\"/content/drive/MyDrive/CIVE 461/CIVE461-Python/CIVE461/CIVE_461-main/Group Project/Data/hh_all.csv\")\n",
        "    per_df = pd.read_csv(\"/content/drive/MyDrive/CIVE 461/CIVE461-Python/CIVE461/CIVE_461-main/Group Project/Data/per_all.csv\")\n",
        "    # We'll need household weights for the zone-based model analysis to generate some approximate zonal statistics\n",
        "    hh_wgt_df = pd.read_csv(\"/content/drive/MyDrive/CIVE 461/CIVE461-Python/CIVE461/CIVE_461-main/Group Project/Data/hh_wgt_all.csv\")\n",
        "\n",
        "    # Merge on UID, which is a combination of a household id and a dataset id\n",
        "    trip_df = trip_df.merge(hh_df.loc[:,[\"UID\",\"hh_cbsa\"]], on=\"UID\")\n",
        "\n",
        "    trip_df.to_csv(\"my_hh_trip_data.csv\",index=False)\n",
        "else:\n",
        "    trip_df = pd.read_csv(\"my_hh_trip_data.csv\")"
      ]
    },
    {
      "cell_type": "code",
      "execution_count": null,
      "metadata": {
        "colab": {
          "base_uri": "https://localhost:8080/",
          "height": 255
        },
        "id": "MabmpCGK421n",
        "outputId": "7ecd04fe-eed8-4afd-cd01-c988306e7659"
      },
      "outputs": [
        {
          "output_type": "execute_result",
          "data": {
            "text/plain": [
              "     sampno  perno  tripno  o_locno    locno  strttime  endtime  trvlcmin  \\\n",
              "0  30000449      1       1      100      102       829      855        26   \n",
              "1  30000449      1       2      102  1000000       905      910         5   \n",
              "2  30000449      1       3  1000000      102      1000     1005         5   \n",
              "3  30000449      1       4      102  1000001      1315     1330        15   \n",
              "4  30000449      1       5  1000001      102      1625     1640        15   \n",
              "\n",
              "   distance_mi  trpmiles  ...  transit_acct  transit_egrt  transit_waitt  \\\n",
              "0        9.515     9.515  ...      8.291029     11.263992       9.576387   \n",
              "1        0.307     0.307  ...      6.256466      7.472391       9.479657   \n",
              "2        0.307     0.307  ...      6.256466      7.472391       9.479657   \n",
              "3        1.823     1.823  ...      6.256466      7.472391       9.479657   \n",
              "4        1.815     1.815  ...      6.256466      7.472391       9.479657   \n",
              "\n",
              "          UID  pub_reason  wtperfin5d  wttrdfin5d  wtperfin  wttrdfin  hh_cbsa  \n",
              "0  30000449.1         NaN         NaN         NaN       NaN       NaN    12260  \n",
              "1  30000449.1         NaN         NaN         NaN       NaN       NaN    12260  \n",
              "2  30000449.1         NaN         NaN         NaN       NaN       NaN    12260  \n",
              "3  30000449.1         NaN         NaN         NaN       NaN       NaN    12260  \n",
              "4  30000449.1         NaN         NaN         NaN       NaN       NaN    12260  \n",
              "\n",
              "[5 rows x 158 columns]"
            ],
            "text/html": [
              "\n",
              "  <div id=\"df-73af4585-bda2-4c30-a93b-bfc8e2580b09\" class=\"colab-df-container\">\n",
              "    <div>\n",
              "<style scoped>\n",
              "    .dataframe tbody tr th:only-of-type {\n",
              "        vertical-align: middle;\n",
              "    }\n",
              "\n",
              "    .dataframe tbody tr th {\n",
              "        vertical-align: top;\n",
              "    }\n",
              "\n",
              "    .dataframe thead th {\n",
              "        text-align: right;\n",
              "    }\n",
              "</style>\n",
              "<table border=\"1\" class=\"dataframe\">\n",
              "  <thead>\n",
              "    <tr style=\"text-align: right;\">\n",
              "      <th></th>\n",
              "      <th>sampno</th>\n",
              "      <th>perno</th>\n",
              "      <th>tripno</th>\n",
              "      <th>o_locno</th>\n",
              "      <th>locno</th>\n",
              "      <th>strttime</th>\n",
              "      <th>endtime</th>\n",
              "      <th>trvlcmin</th>\n",
              "      <th>distance_mi</th>\n",
              "      <th>trpmiles</th>\n",
              "      <th>...</th>\n",
              "      <th>transit_acct</th>\n",
              "      <th>transit_egrt</th>\n",
              "      <th>transit_waitt</th>\n",
              "      <th>UID</th>\n",
              "      <th>pub_reason</th>\n",
              "      <th>wtperfin5d</th>\n",
              "      <th>wttrdfin5d</th>\n",
              "      <th>wtperfin</th>\n",
              "      <th>wttrdfin</th>\n",
              "      <th>hh_cbsa</th>\n",
              "    </tr>\n",
              "  </thead>\n",
              "  <tbody>\n",
              "    <tr>\n",
              "      <th>0</th>\n",
              "      <td>30000449</td>\n",
              "      <td>1</td>\n",
              "      <td>1</td>\n",
              "      <td>100</td>\n",
              "      <td>102</td>\n",
              "      <td>829</td>\n",
              "      <td>855</td>\n",
              "      <td>26</td>\n",
              "      <td>9.515</td>\n",
              "      <td>9.515</td>\n",
              "      <td>...</td>\n",
              "      <td>8.291029</td>\n",
              "      <td>11.263992</td>\n",
              "      <td>9.576387</td>\n",
              "      <td>30000449.1</td>\n",
              "      <td>NaN</td>\n",
              "      <td>NaN</td>\n",
              "      <td>NaN</td>\n",
              "      <td>NaN</td>\n",
              "      <td>NaN</td>\n",
              "      <td>12260</td>\n",
              "    </tr>\n",
              "    <tr>\n",
              "      <th>1</th>\n",
              "      <td>30000449</td>\n",
              "      <td>1</td>\n",
              "      <td>2</td>\n",
              "      <td>102</td>\n",
              "      <td>1000000</td>\n",
              "      <td>905</td>\n",
              "      <td>910</td>\n",
              "      <td>5</td>\n",
              "      <td>0.307</td>\n",
              "      <td>0.307</td>\n",
              "      <td>...</td>\n",
              "      <td>6.256466</td>\n",
              "      <td>7.472391</td>\n",
              "      <td>9.479657</td>\n",
              "      <td>30000449.1</td>\n",
              "      <td>NaN</td>\n",
              "      <td>NaN</td>\n",
              "      <td>NaN</td>\n",
              "      <td>NaN</td>\n",
              "      <td>NaN</td>\n",
              "      <td>12260</td>\n",
              "    </tr>\n",
              "    <tr>\n",
              "      <th>2</th>\n",
              "      <td>30000449</td>\n",
              "      <td>1</td>\n",
              "      <td>3</td>\n",
              "      <td>1000000</td>\n",
              "      <td>102</td>\n",
              "      <td>1000</td>\n",
              "      <td>1005</td>\n",
              "      <td>5</td>\n",
              "      <td>0.307</td>\n",
              "      <td>0.307</td>\n",
              "      <td>...</td>\n",
              "      <td>6.256466</td>\n",
              "      <td>7.472391</td>\n",
              "      <td>9.479657</td>\n",
              "      <td>30000449.1</td>\n",
              "      <td>NaN</td>\n",
              "      <td>NaN</td>\n",
              "      <td>NaN</td>\n",
              "      <td>NaN</td>\n",
              "      <td>NaN</td>\n",
              "      <td>12260</td>\n",
              "    </tr>\n",
              "    <tr>\n",
              "      <th>3</th>\n",
              "      <td>30000449</td>\n",
              "      <td>1</td>\n",
              "      <td>4</td>\n",
              "      <td>102</td>\n",
              "      <td>1000001</td>\n",
              "      <td>1315</td>\n",
              "      <td>1330</td>\n",
              "      <td>15</td>\n",
              "      <td>1.823</td>\n",
              "      <td>1.823</td>\n",
              "      <td>...</td>\n",
              "      <td>6.256466</td>\n",
              "      <td>7.472391</td>\n",
              "      <td>9.479657</td>\n",
              "      <td>30000449.1</td>\n",
              "      <td>NaN</td>\n",
              "      <td>NaN</td>\n",
              "      <td>NaN</td>\n",
              "      <td>NaN</td>\n",
              "      <td>NaN</td>\n",
              "      <td>12260</td>\n",
              "    </tr>\n",
              "    <tr>\n",
              "      <th>4</th>\n",
              "      <td>30000449</td>\n",
              "      <td>1</td>\n",
              "      <td>5</td>\n",
              "      <td>1000001</td>\n",
              "      <td>102</td>\n",
              "      <td>1625</td>\n",
              "      <td>1640</td>\n",
              "      <td>15</td>\n",
              "      <td>1.815</td>\n",
              "      <td>1.815</td>\n",
              "      <td>...</td>\n",
              "      <td>6.256466</td>\n",
              "      <td>7.472391</td>\n",
              "      <td>9.479657</td>\n",
              "      <td>30000449.1</td>\n",
              "      <td>NaN</td>\n",
              "      <td>NaN</td>\n",
              "      <td>NaN</td>\n",
              "      <td>NaN</td>\n",
              "      <td>NaN</td>\n",
              "      <td>12260</td>\n",
              "    </tr>\n",
              "  </tbody>\n",
              "</table>\n",
              "<p>5 rows × 158 columns</p>\n",
              "</div>\n",
              "    <div class=\"colab-df-buttons\">\n",
              "\n",
              "  <div class=\"colab-df-container\">\n",
              "    <button class=\"colab-df-convert\" onclick=\"convertToInteractive('df-73af4585-bda2-4c30-a93b-bfc8e2580b09')\"\n",
              "            title=\"Convert this dataframe to an interactive table.\"\n",
              "            style=\"display:none;\">\n",
              "\n",
              "  <svg xmlns=\"http://www.w3.org/2000/svg\" height=\"24px\" viewBox=\"0 -960 960 960\">\n",
              "    <path d=\"M120-120v-720h720v720H120Zm60-500h600v-160H180v160Zm220 220h160v-160H400v160Zm0 220h160v-160H400v160ZM180-400h160v-160H180v160Zm440 0h160v-160H620v160ZM180-180h160v-160H180v160Zm440 0h160v-160H620v160Z\"/>\n",
              "  </svg>\n",
              "    </button>\n",
              "\n",
              "  <style>\n",
              "    .colab-df-container {\n",
              "      display:flex;\n",
              "      gap: 12px;\n",
              "    }\n",
              "\n",
              "    .colab-df-convert {\n",
              "      background-color: #E8F0FE;\n",
              "      border: none;\n",
              "      border-radius: 50%;\n",
              "      cursor: pointer;\n",
              "      display: none;\n",
              "      fill: #1967D2;\n",
              "      height: 32px;\n",
              "      padding: 0 0 0 0;\n",
              "      width: 32px;\n",
              "    }\n",
              "\n",
              "    .colab-df-convert:hover {\n",
              "      background-color: #E2EBFA;\n",
              "      box-shadow: 0px 1px 2px rgba(60, 64, 67, 0.3), 0px 1px 3px 1px rgba(60, 64, 67, 0.15);\n",
              "      fill: #174EA6;\n",
              "    }\n",
              "\n",
              "    .colab-df-buttons div {\n",
              "      margin-bottom: 4px;\n",
              "    }\n",
              "\n",
              "    [theme=dark] .colab-df-convert {\n",
              "      background-color: #3B4455;\n",
              "      fill: #D2E3FC;\n",
              "    }\n",
              "\n",
              "    [theme=dark] .colab-df-convert:hover {\n",
              "      background-color: #434B5C;\n",
              "      box-shadow: 0px 1px 3px 1px rgba(0, 0, 0, 0.15);\n",
              "      filter: drop-shadow(0px 1px 2px rgba(0, 0, 0, 0.3));\n",
              "      fill: #FFFFFF;\n",
              "    }\n",
              "  </style>\n",
              "\n",
              "    <script>\n",
              "      const buttonEl =\n",
              "        document.querySelector('#df-73af4585-bda2-4c30-a93b-bfc8e2580b09 button.colab-df-convert');\n",
              "      buttonEl.style.display =\n",
              "        google.colab.kernel.accessAllowed ? 'block' : 'none';\n",
              "\n",
              "      async function convertToInteractive(key) {\n",
              "        const element = document.querySelector('#df-73af4585-bda2-4c30-a93b-bfc8e2580b09');\n",
              "        const dataTable =\n",
              "          await google.colab.kernel.invokeFunction('convertToInteractive',\n",
              "                                                    [key], {});\n",
              "        if (!dataTable) return;\n",
              "\n",
              "        const docLinkHtml = 'Like what you see? Visit the ' +\n",
              "          '<a target=\"_blank\" href=https://colab.research.google.com/notebooks/data_table.ipynb>data table notebook</a>'\n",
              "          + ' to learn more about interactive tables.';\n",
              "        element.innerHTML = '';\n",
              "        dataTable['output_type'] = 'display_data';\n",
              "        await google.colab.output.renderOutput(dataTable, element);\n",
              "        const docLink = document.createElement('div');\n",
              "        docLink.innerHTML = docLinkHtml;\n",
              "        element.appendChild(docLink);\n",
              "      }\n",
              "    </script>\n",
              "  </div>\n",
              "\n",
              "\n",
              "<div id=\"df-54d4a7dd-15a1-4ec6-8c73-dfc86b059923\">\n",
              "  <button class=\"colab-df-quickchart\" onclick=\"quickchart('df-54d4a7dd-15a1-4ec6-8c73-dfc86b059923')\"\n",
              "            title=\"Suggest charts\"\n",
              "            style=\"display:none;\">\n",
              "\n",
              "<svg xmlns=\"http://www.w3.org/2000/svg\" height=\"24px\"viewBox=\"0 0 24 24\"\n",
              "     width=\"24px\">\n",
              "    <g>\n",
              "        <path d=\"M19 3H5c-1.1 0-2 .9-2 2v14c0 1.1.9 2 2 2h14c1.1 0 2-.9 2-2V5c0-1.1-.9-2-2-2zM9 17H7v-7h2v7zm4 0h-2V7h2v10zm4 0h-2v-4h2v4z\"/>\n",
              "    </g>\n",
              "</svg>\n",
              "  </button>\n",
              "\n",
              "<style>\n",
              "  .colab-df-quickchart {\n",
              "      --bg-color: #E8F0FE;\n",
              "      --fill-color: #1967D2;\n",
              "      --hover-bg-color: #E2EBFA;\n",
              "      --hover-fill-color: #174EA6;\n",
              "      --disabled-fill-color: #AAA;\n",
              "      --disabled-bg-color: #DDD;\n",
              "  }\n",
              "\n",
              "  [theme=dark] .colab-df-quickchart {\n",
              "      --bg-color: #3B4455;\n",
              "      --fill-color: #D2E3FC;\n",
              "      --hover-bg-color: #434B5C;\n",
              "      --hover-fill-color: #FFFFFF;\n",
              "      --disabled-bg-color: #3B4455;\n",
              "      --disabled-fill-color: #666;\n",
              "  }\n",
              "\n",
              "  .colab-df-quickchart {\n",
              "    background-color: var(--bg-color);\n",
              "    border: none;\n",
              "    border-radius: 50%;\n",
              "    cursor: pointer;\n",
              "    display: none;\n",
              "    fill: var(--fill-color);\n",
              "    height: 32px;\n",
              "    padding: 0;\n",
              "    width: 32px;\n",
              "  }\n",
              "\n",
              "  .colab-df-quickchart:hover {\n",
              "    background-color: var(--hover-bg-color);\n",
              "    box-shadow: 0 1px 2px rgba(60, 64, 67, 0.3), 0 1px 3px 1px rgba(60, 64, 67, 0.15);\n",
              "    fill: var(--button-hover-fill-color);\n",
              "  }\n",
              "\n",
              "  .colab-df-quickchart-complete:disabled,\n",
              "  .colab-df-quickchart-complete:disabled:hover {\n",
              "    background-color: var(--disabled-bg-color);\n",
              "    fill: var(--disabled-fill-color);\n",
              "    box-shadow: none;\n",
              "  }\n",
              "\n",
              "  .colab-df-spinner {\n",
              "    border: 2px solid var(--fill-color);\n",
              "    border-color: transparent;\n",
              "    border-bottom-color: var(--fill-color);\n",
              "    animation:\n",
              "      spin 1s steps(1) infinite;\n",
              "  }\n",
              "\n",
              "  @keyframes spin {\n",
              "    0% {\n",
              "      border-color: transparent;\n",
              "      border-bottom-color: var(--fill-color);\n",
              "      border-left-color: var(--fill-color);\n",
              "    }\n",
              "    20% {\n",
              "      border-color: transparent;\n",
              "      border-left-color: var(--fill-color);\n",
              "      border-top-color: var(--fill-color);\n",
              "    }\n",
              "    30% {\n",
              "      border-color: transparent;\n",
              "      border-left-color: var(--fill-color);\n",
              "      border-top-color: var(--fill-color);\n",
              "      border-right-color: var(--fill-color);\n",
              "    }\n",
              "    40% {\n",
              "      border-color: transparent;\n",
              "      border-right-color: var(--fill-color);\n",
              "      border-top-color: var(--fill-color);\n",
              "    }\n",
              "    60% {\n",
              "      border-color: transparent;\n",
              "      border-right-color: var(--fill-color);\n",
              "    }\n",
              "    80% {\n",
              "      border-color: transparent;\n",
              "      border-right-color: var(--fill-color);\n",
              "      border-bottom-color: var(--fill-color);\n",
              "    }\n",
              "    90% {\n",
              "      border-color: transparent;\n",
              "      border-bottom-color: var(--fill-color);\n",
              "    }\n",
              "  }\n",
              "</style>\n",
              "\n",
              "  <script>\n",
              "    async function quickchart(key) {\n",
              "      const quickchartButtonEl =\n",
              "        document.querySelector('#' + key + ' button');\n",
              "      quickchartButtonEl.disabled = true;  // To prevent multiple clicks.\n",
              "      quickchartButtonEl.classList.add('colab-df-spinner');\n",
              "      try {\n",
              "        const charts = await google.colab.kernel.invokeFunction(\n",
              "            'suggestCharts', [key], {});\n",
              "      } catch (error) {\n",
              "        console.error('Error during call to suggestCharts:', error);\n",
              "      }\n",
              "      quickchartButtonEl.classList.remove('colab-df-spinner');\n",
              "      quickchartButtonEl.classList.add('colab-df-quickchart-complete');\n",
              "    }\n",
              "    (() => {\n",
              "      let quickchartButtonEl =\n",
              "        document.querySelector('#df-54d4a7dd-15a1-4ec6-8c73-dfc86b059923 button');\n",
              "      quickchartButtonEl.style.display =\n",
              "        google.colab.kernel.accessAllowed ? 'block' : 'none';\n",
              "    })();\n",
              "  </script>\n",
              "</div>\n",
              "    </div>\n",
              "  </div>\n"
            ]
          },
          "metadata": {},
          "execution_count": 144
        }
      ],
      "source": [
        "trip_df.head()"
      ]
    },
    {
      "cell_type": "markdown",
      "metadata": {
        "id": "4XPUCR2b421n"
      },
      "source": [
        "# Important columns\n",
        "Some important columns to make note of when developing your models are given below. Note: we could obtain an estimate for transit cost from GTFS data. We'll ignore transit cost for the purposes of the assignment though.\n",
        "- auto_tt = auto travel time in minutes\n",
        "- auto_cost = auto cost in dollars\n",
        "- transit_tt = transit travel time in minutes\n",
        "- transit_acct = transit access time in minutes\n",
        "- transit_egrt = transit egress time in minutes\n",
        "- transit_waitt = transit wait time in minutes\n",
        "- trpmiles = trip distance in miles\n",
        "- ch_mode = {1 = walk, 2 = bike, 3 = auto, 4 = transit}"
      ]
    },
    {
      "cell_type": "markdown",
      "metadata": {
        "id": "bjVAGmoE421n"
      },
      "source": [
        "Biogeme, like most discrete choice software, requires that all data are numeric. We have several columns with non-numeric entries. We'll have to do some processing to prepare the data for use with Biogeme."
      ]
    },
    {
      "cell_type": "code",
      "execution_count": null,
      "metadata": {
        "id": "wrrbHfE8421n"
      },
      "outputs": [],
      "source": [
        "# Filter data for your region\n",
        "my_trips = trip_df.loc[(trip_df.hh_cbsa==\"31080\")]"
      ]
    },
    {
      "cell_type": "markdown",
      "metadata": {
        "id": "7_o3cqOx421o"
      },
      "source": [
        "# Home-Based Non-Work Trip Model\n"
      ]
    },
    {
      "cell_type": "code",
      "execution_count": null,
      "metadata": {
        "id": "VZsKNr4s421o"
      },
      "outputs": [],
      "source": [
        "hbnw_filt = ((my_trips.trippurp==\"HBO\") | (my_trips.trippurp==\"HBSHOP\") | (my_trips.trippurp==\"HBSOCREC\"))\n",
        "# This line will filter for non-work trips. It also removes any column with object datatype.\n",
        "# If a column appears in the data description but not the dataframe after running this line, you may have to\n",
        "# do some processing to have it available to you for model estimation. E.g., you can change a string trippurp code to\n",
        "# an integer code - HBO = 1, etc..\n",
        "hbnw_trips = my_trips.loc[hbnw_filt].select_dtypes(exclude=['object'])\n",
        "hbnw_trips.fillna(-1, inplace=True)\n",
        "# Biogeme requires information on if an alternative is available\n",
        "# Here, I'm assuming that auto/transit modes are always available. We could exclude auto for those without a license.\n",
        "# I assume that walk/bike are available for trips with distances less than the maximum reported trip distance with that as the chosen mode\n",
        "hbnw_trips[\"walk_av\"] = (hbnw_trips.trpmiles   <=  hbnw_trips[hbnw_trips.ch_mode==1].trpmiles.max()).astype(int)\n",
        "hbnw_trips[\"bike_av\"] = (hbnw_trips.trpmiles   <=  hbnw_trips[hbnw_trips.ch_mode==2].trpmiles.max()).astype(int)\n",
        "hbnw_trips[\"auto_av\"] = 1\n",
        "hbnw_trips[\"transit_av\"] = 1"
      ]
    },
    {
      "cell_type": "markdown",
      "metadata": {
        "id": "PBGIa54V421o"
      },
      "source": [
        "We don't want to include a record if it has a negative value in a critical column. We'll filter the dataframe for those important columns."
      ]
    },
    {
      "cell_type": "code",
      "execution_count": null,
      "metadata": {
        "id": "uOibGTz1421o"
      },
      "outputs": [],
      "source": [
        "# Update based on if you add more columns to models that potentially contain negative numbers\n",
        "check_cols = [\"auto_tt\",\"auto_cost\", \"transit_tt\", \"transit_acct\", \"transit_egrt\", \"transit_waitt\", \"trpmiles\", \"ch_mode\"]\n",
        "hbnw_trips = hbnw_trips[hbnw_trips.loc[:,check_cols].sum(axis=1)>-1]"
      ]
    },
    {
      "cell_type": "code",
      "execution_count": null,
      "metadata": {
        "id": "NPdGfOh3421o",
        "scrolled": true
      },
      "outputs": [],
      "source": [
        "# Need to import data to the Biogeme database structure\n",
        "database = db.Database(\"my_hbnw_trips\",hbnw_trips)\n",
        "database.data.head()\n",
        "\n",
        "# Define Biogeme variables\n",
        "AUTO_TT = Variable(\"auto_tt\")\n",
        "AUTO_COST = Variable(\"auto_cost\")\n",
        "TRANSIT_TT = Variable(\"transit_tt\")\n",
        "DIST = Variable(\"trpmiles\")\n",
        "CHOICE = Variable(\"ch_mode\")\n",
        "WALK_AV = Variable(\"walk_av\")\n",
        "BIKE_AV = Variable(\"bike_av\")\n",
        "AUTO_AV = Variable(\"auto_av\")\n",
        "TRANSIT_AV = Variable(\"transit_av\")\n",
        "TRANSIT_ACCT = Variable(\"transit_acct\")\n",
        "TRANSIT_EGRT = Variable(\"transit_egrt\")\n",
        "TRANSIT_WAITT = Variable(\"transit_waitt\")"
      ]
    },
    {
      "cell_type": "markdown",
      "metadata": {
        "id": "6r-BwHbw421o"
      },
      "source": [
        "We can then define the names and starting values for the model parameters. There are 5 parameters defined for the base Swiss Metro model. Biogeme uses a constrained optimization to reduce the search space. The Beta function is called as follows:\n",
        "```python\n",
        "Beta(parameter name AS str, initial value AS int, lower bound AS int, upper bound AS int, fixed AS int)\n",
        "```\n",
        "If there are no bounds on the parameter search space, the use may enter: ```None```. A value of ```0``` for the ```fixed``` parameter will allow Biogeme to estimate the parameter. In this case, we have only fixed the ASC for the swiss metro mode, to maintain model indentification."
      ]
    },
    {
      "cell_type": "code",
      "execution_count": null,
      "metadata": {
        "id": "xR5Ay0B3421p",
        "colab": {
          "base_uri": "https://localhost:8080/"
        },
        "outputId": "d71aeef1-1e95-4b64-ef6c-ffc54715eec2"
      },
      "outputs": [
        {
          "output_type": "stream",
          "name": "stderr",
          "text": [
            "WARNING:biogeme.models:It is advised to set the bounds on parameter B_TIME_BC. A value of -10 and 10 should be appropriate: Beta(\"B_TIME_BC\", 0, -10, 10, 0)\n"
          ]
        },
        {
          "output_type": "stream",
          "name": "stdout",
          "text": [
            "{{0:{{0:(((transit_tt ** B_TIME_BC(init=0)) - `1.0`) / B_TIME_BC(init=0)), 1:(((log(transit_tt) + (B_TIME_BC(init=0) * (log(transit_tt) ** `2.0`))) + (((B_TIME_BC(init=0) ** `2.0`) * (log(transit_tt) ** `3.0`)) / `6.0`)) + (((B_TIME_BC(init=0) ** `3.0`) * (log(transit_tt) ** `4.0`)) / `24.0`))}[((B_TIME_BC(init=0) < `1e-05`) * (B_TIME_BC(init=0) > (-`1e-05`)))], 1:`0.0`}[(transit_tt == `0.0`)]\n"
          ]
        }
      ],
      "source": [
        "ASC_WALK = Beta('ASC_WALK',0,None,None,0)\n",
        "ASC_BIKE = Beta('ASC_BIKE',0,None,None,0)\n",
        "ASC_TRANSIT = Beta('ASC_TRANSIT',0,None,None,0)\n",
        "B_TIME = Beta('B_TIME',0,None,None,0)\n",
        "B_COST = Beta('B_COST',0,None,None,0)\n",
        "B_DIST = Beta('B_DIST',0,None,None,0)\n",
        "B_TIME_BC = Beta('B_TIME_BC',0,None,None,0)\n",
        "TRANSIT_TT_BC = models.boxcox(TRANSIT_TT, B_TIME_BC)\n",
        "print(TRANSIT_TT_BC)"
      ]
    },
    {
      "cell_type": "code",
      "execution_count": null,
      "metadata": {
        "colab": {
          "base_uri": "https://localhost:8080/"
        },
        "id": "aV0ML7_4U4RI",
        "outputId": "dd2aabf8-f8ec-4a88-b35d-8bb5fe0672d5"
      },
      "outputs": [
        {
          "output_type": "stream",
          "name": "stdout",
          "text": [
            "B_TIME(init=0)\n",
            "B_COST(init=0)\n",
            "B_DIST(init=0)\n"
          ]
        }
      ],
      "source": [
        "print (B_TIME)\n",
        "print (B_COST)\n",
        "print (B_DIST)"
      ]
    },
    {
      "cell_type": "markdown",
      "metadata": {
        "id": "KYYBiWVn421p"
      },
      "source": [
        "The next step is to define the utility function for each alternative mode."
      ]
    },
    {
      "cell_type": "code",
      "execution_count": null,
      "metadata": {
        "id": "bdfTG3FO421p"
      },
      "outputs": [],
      "source": [
        "V1 = ASC_WALK + \\\n",
        "     B_DIST * DIST\n",
        "V2 = ASC_BIKE + \\\n",
        "     B_DIST * DIST\n",
        "V3 = B_TIME * AUTO_TT + \\\n",
        "     B_COST * AUTO_COST\n",
        "V4 = ASC_TRANSIT + \\\n",
        "     B_TIME * TRANSIT_TT_BC"
      ]
    },
    {
      "cell_type": "markdown",
      "metadata": {
        "id": "13dsFN60421p"
      },
      "source": [
        "Biogeme has a variety of built-in discrete choice models, which the user can leverage. However, it also allows the user to define their own likelihood function if it is not available in the built-in model library. In this case, we use the built-in ```loglogit``` function to estimate the model."
      ]
    },
    {
      "cell_type": "code",
      "execution_count": null,
      "metadata": {
        "id": "VNUl7T_X421p"
      },
      "outputs": [],
      "source": [
        "# Associate utility functions with the numbering of alternatives\n",
        "V = {1: V1,\n",
        "     2: V2,\n",
        "     3: V3,\n",
        "     4: V4}\n",
        "\n",
        "# Associate the availability conditions with the alternatives\n",
        "\n",
        "av = {1: WALK_AV,\n",
        "      2: BIKE_AV,\n",
        "      3: AUTO_AV,\n",
        "      4: TRANSIT_AV}\n",
        "\n",
        "logprob_nw = models.loglogit(V,av,CHOICE)\n",
        "biogeme_nw  = bio.BIOGEME(database,logprob_nw)\n",
        "biogeme_nw.modelName = \"01logit_nw\"\n",
        "results_nw = biogeme_nw.estimate()"
      ]
    },
    {
      "cell_type": "markdown",
      "metadata": {
        "id": "iooHZS-g421p"
      },
      "source": [
        "The results of the model estimation can then be printed to the terminal."
      ]
    },
    {
      "cell_type": "code",
      "execution_count": null,
      "metadata": {
        "colab": {
          "base_uri": "https://localhost:8080/"
        },
        "id": "4t7sThNJ421p",
        "outputId": "689b109a-c5e7-4514-be8f-e0b8312d155e",
        "scrolled": true
      },
      "outputs": [
        {
          "output_type": "stream",
          "name": "stdout",
          "text": [
            "                Value  Rob. Std err  Rob. t-test  Rob. p-value\n",
            "ASC_BIKE    -2.529439      0.780482    -3.240866  1.191674e-03\n",
            "ASC_TRANSIT -4.077654      0.755180    -5.399577  6.679817e-08\n",
            "ASC_WALK     0.078729      0.778569     0.101120  9.194552e-01\n",
            "B_COST      -0.000414      0.002736    -0.151119  8.798818e-01\n",
            "B_DIST      -1.079365      0.203434    -5.305720  1.122291e-07\n",
            "B_TIME      -0.006423      0.001379    -4.657238  3.204796e-06\n",
            "B_TIME_BC   -2.023598      0.196642   -10.290795  0.000000e+00\n"
          ]
        }
      ],
      "source": [
        "# Get the results in a pandas table\n",
        "# Rob. Std. err are standard errors that are robust to heteroskadastic errors.\n",
        "# This knowledge is beyond the CIVE461 scope.\n",
        "pandasResults_nw = results_nw.getEstimatedParameters()\n",
        "print(pandasResults_nw)"
      ]
    },
    {
      "cell_type": "code",
      "execution_count": null,
      "metadata": {
        "id": "g29Urm8I421p"
      },
      "outputs": [],
      "source": [
        "\n",
        "asc_bike_estimate = pandasResults_nw.loc['ASC_BIKE', 'Value']"
      ]
    },
    {
      "cell_type": "markdown",
      "metadata": {
        "id": "G6QgKaS7421q"
      },
      "source": [
        "**NOTE:** The above model gives appropriate results for the sample CBSA! This may not be true for your dataset. DO NOT submit results with positive cost, distance, or time parameters."
      ]
    },
    {
      "cell_type": "markdown",
      "metadata": {
        "id": "fGqb004y421q"
      },
      "source": [
        "Biogeme also includes functionalities to compute elasticties for model variables. The elasticity can be calculated directly by the user, but Biogeme also includes functions for calculating derivatives for the user.\n",
        "\n",
        "We have to redefine the model for it to run in a Jupyter notebook, so there is some repetition in the following code. Note: the parameter definitions have been slightly altered to use the calculated betas. These are stored in a dictionary and the values can be accessed through reference to the appropriate dictionary keys."
      ]
    },
    {
      "cell_type": "code",
      "execution_count": null,
      "metadata": {
        "id": "dsL8jHUU421q"
      },
      "outputs": [],
      "source": [
        "# Get the beta parameters estimated in previous step\n",
        "betas = results_nw.getBetaValues()\n",
        "\n",
        "ASC_WALK = Beta('ASC_WALK',betas['ASC_WALK'],None,None,0)\n",
        "ASC_BIKE = Beta('ASC_BIKE',betas['ASC_BIKE'],None,None,0)\n",
        "ASC_TRANSIT = Beta('ASC_TRANSIT',betas['ASC_TRANSIT'],None,None,0)\n",
        "B_TIME = Beta('B_TIME',betas['B_TIME'],None,None,0)\n",
        "B_TIME_BC = Beta('B_TIME_BC',betas['B_TIME_BC'],None,None,0)\n",
        "B_COST = Beta('B_COST',betas['B_COST'],None,None,0)\n",
        "B_DIST = Beta('B_DIST',betas['B_DIST'],None,None,0)\n",
        "\n",
        "prob1_nw = models.logit(V,av,1)\n",
        "prob2_nw = models.logit(V,av,2)\n",
        "prob3_nw = models.logit(V,av,3)\n",
        "prob4_nw = models.logit(V,av,4)"
      ]
    },
    {
      "cell_type": "markdown",
      "metadata": {
        "id": "jV-m2ouW421q"
      },
      "source": [
        "We can then calculate the set of elasticities. We can then complete the process using the .simulate() function. This will calculate the probabilities and elasticities for each observation. The Pandas .describe() function is useful to print the statistics for each of these calculated values (i.e. mean, minimum, maximum, standard deviation, percentiles)."
      ]
    },
    {
      "cell_type": "code",
      "execution_count": null,
      "metadata": {
        "colab": {
          "base_uri": "https://localhost:8080/"
        },
        "id": "6TtuANNw421q",
        "outputId": "d37319c4-b8ab-45b3-d01b-c7671781b7f8",
        "scrolled": true
      },
      "outputs": [
        {
          "output_type": "stream",
          "name": "stderr",
          "text": [
            "WARNING:biogeme.biogeme:The chosen alternative [`1.0`] is not available for the following observations (rownumber[choice]): 759[1.0]-975[1.0]-1251[1.0]-1405[1.0]-1406[1.0]-1878[1.0]-1879[1.0]-1880[1.0]-1881[1.0]-2009[1.0]-20...\n",
            "The chosen alternative [`2.0`] is not available for the following observations (rownumber[choice]): 0[2.0]-2[2.0]-62[2.0]-131[2.0]-132[2.0]-133[2.0]-134[2.0]-151[2.0]-156[2.0]-157[2.0]-179[2.0]-180[2....\n",
            "The chosen alternative [`1.0`] is not available for the following observations (rownumber[choice]): 759[1.0]-975[1.0]-1251[1.0]-1405[1.0]-1406[1.0]-1878[1.0]-1879[1.0]-1880[1.0]-1881[1.0]-2009[1.0]-20...\n",
            "The chosen alternative [`2.0`] is not available for the following observations (rownumber[choice]): 0[2.0]-2[2.0]-62[2.0]-131[2.0]-132[2.0]-133[2.0]-134[2.0]-151[2.0]-156[2.0]-157[2.0]-179[2.0]-180[2....\n",
            "WARNING:biogeme.biogeme:The chosen alternative [`1.0`] is not available for the following observations (rownumber[choice]): 759[1.0]-975[1.0]-1251[1.0]-1405[1.0]-1406[1.0]-1878[1.0]-1879[1.0]-1880[1.0]-1881[1.0]-2009[1.0]-20...\n",
            "WARNING:biogeme.biogeme:The chosen alternative [`2.0`] is not available for the following observations (rownumber[choice]): 0[2.0]-2[2.0]-62[2.0]-131[2.0]-132[2.0]-133[2.0]-134[2.0]-151[2.0]-156[2.0]-157[2.0]-179[2.0]-180[2....\n",
            "WARNING:biogeme.biogeme:The chosen alternative [`1.0`] is not available for the following observations (rownumber[choice]): 759[1.0]-975[1.0]-1251[1.0]-1405[1.0]-1406[1.0]-1878[1.0]-1879[1.0]-1880[1.0]-1881[1.0]-2009[1.0]-20...\n",
            "WARNING:biogeme.biogeme:The chosen alternative [`2.0`] is not available for the following observations (rownumber[choice]): 0[2.0]-2[2.0]-62[2.0]-131[2.0]-132[2.0]-133[2.0]-134[2.0]-151[2.0]-156[2.0]-157[2.0]-179[2.0]-180[2....\n"
          ]
        },
        {
          "output_type": "stream",
          "name": "stdout",
          "text": [
            "Non-work results=\n",
            "          Prob. walk    Prob. bike    Prob. auto  Prob. transit  logit elas. 1  \\\n",
            "count  12500.000000  12500.000000  12500.000000   1.250000e+04   12500.000000   \n",
            "mean       0.153120      0.011280      0.817360   1.823977e-02      -6.731711   \n",
            "std        0.168670      0.012426      0.176500   1.358506e-02      14.189699   \n",
            "min        0.000000      0.000000      0.000042   8.785730e-07    -197.294961   \n",
            "25%        0.002183      0.000161      0.674123   1.359386e-02      -6.374614   \n",
            "50%        0.078344      0.005772      0.896439   1.834815e-02      -2.482661   \n",
            "75%        0.290058      0.021368      0.972936   2.090225e-02      -0.766167   \n",
            "max        0.931345      0.068612      0.980577   7.674145e-01       0.666965   \n",
            "\n",
            "       logit elas. 2  logit elas. 3  logit elas. 4  \n",
            "count   12500.000000   12500.000000   12500.000000  \n",
            "mean       -3.717315      -0.016373      -0.981119  \n",
            "std         4.349744       0.075635       0.013467  \n",
            "min       -22.228442      -4.041094      -0.999068  \n",
            "25%        -4.925290      -0.017794      -0.985489  \n",
            "50%        -2.142138      -0.008243      -0.980894  \n",
            "75%        -0.795228      -0.004318      -0.978779  \n",
            "max         9.047774      -0.000546      -0.232536  \n"
          ]
        }
      ],
      "source": [
        "logitelas1_nw = WALK_AV * (1.0 - prob1_nw) * DIST * B_DIST\n",
        "logitelas2_nw = BIKE_AV * (1.0 - prob2_nw) * DIST * B_DIST\n",
        "logitelas3_nw = (1.0 - prob3_nw) * AUTO_TT * B_TIME\n",
        "logitelas4_nw = (1.0 - prob4_nw) * TRANSIT_TT_BC * B_TIME_BC\n",
        "\n",
        "simulate_nw = {'Prob. walk': prob1_nw,\n",
        "            'Prob. bike': prob2_nw,\n",
        "            'Prob. auto':prob3_nw,\n",
        "            'Prob. transit':prob4_nw,\n",
        "            'logit elas. 1':logitelas1_nw,\n",
        "            'logit elas. 2':logitelas2_nw,\n",
        "            'logit elas. 3':logitelas3_nw,\n",
        "            'logit elas. 4':logitelas4_nw}\n",
        "\n",
        "parameter_values = {\n",
        "    'ASC_BIKE': pandasResults_nw.loc['ASC_BIKE', 'Value'],\n",
        "    'ASC_TRANSIT': pandasResults_nw.loc['ASC_TRANSIT', 'Value'],\n",
        "    'ASC_WALK': pandasResults_nw.loc['ASC_WALK', 'Value'],\n",
        "    'B_COST': pandasResults_nw.loc['B_COST', 'Value'],\n",
        "    'B_DIST': pandasResults_nw.loc['B_DIST', 'Value'],\n",
        "    'B_TIME': pandasResults_nw.loc['B_TIME', 'Value'],\n",
        "    'B_TIME_BC': pandasResults_nw.loc['B_TIME_BC', 'Value'] }\n",
        "\n",
        "biogeme_nw  = bio.BIOGEME(database,simulate_nw)\n",
        "biogeme_nw.modelName = \"01logit_simul_nw\"\n",
        "sim_results_nw = biogeme_nw.simulate(theBetaValues=parameter_values)\n",
        "print(\"Non-work results=\\n\",sim_results_nw.describe())"
      ]
    },
    {
      "cell_type": "code",
      "execution_count": null,
      "metadata": {
        "colab": {
          "base_uri": "https://localhost:8080/"
        },
        "id": "7t_9XMFr421q",
        "outputId": "eeeed87a-f029-4162-b2b3-28e03843c691"
      },
      "outputs": [
        {
          "output_type": "stream",
          "name": "stdout",
          "text": [
            "Aggregate direct point elasticity of walk wrt distance for non-work: -0.764\n",
            "Aggregate direct point elasticity of bike wrt distance for non-work: -0.946\n",
            "Aggregate direct point elasticity of auto wrt time for non-work: -0.0127\n",
            "Aggregate direct point elasticity of transit wrt time for non-work: -0.971\n"
          ]
        }
      ],
      "source": [
        "# We calculate the aggregate elasticities\n",
        "\n",
        "# First the denominator of the aggregate elasticity expression.\n",
        "denominator_walk_nw = sim_results_nw['Prob. walk'].sum()\n",
        "denominator_bike_nw = sim_results_nw['Prob. bike'].sum()\n",
        "denominator_auto_nw = sim_results_nw['Prob. auto'].sum()\n",
        "denominator_transit_nw = sim_results_nw['Prob. transit'].sum()\n",
        "\n",
        "# And now the aggregate elasticities themselves.\n",
        "direct_elas_term_walk_dist_nw = (\n",
        "    sim_results_nw['Prob. walk']\n",
        "    * sim_results_nw['logit elas. 1']\n",
        "    / denominator_walk_nw\n",
        ").sum()\n",
        "print(\n",
        "    f'Aggregate direct point elasticity of walk wrt distance for non-work: '\n",
        "    f'{direct_elas_term_walk_dist_nw:.3g}'\n",
        ")\n",
        "\n",
        "direct_elas_term_bike_dist_nw = (\n",
        "    sim_results_nw['Prob. bike']\n",
        "    * sim_results_nw['logit elas. 2']\n",
        "    / denominator_bike_nw\n",
        ").sum()\n",
        "print(\n",
        "    f'Aggregate direct point elasticity of bike wrt distance for non-work: '\n",
        "    f'{direct_elas_term_bike_dist_nw:.3g}'\n",
        ")\n",
        "\n",
        "direct_elas_term_auto_time_nw = (\n",
        "    sim_results_nw['Prob. auto']\n",
        "    * sim_results_nw['logit elas. 3']\n",
        "    / denominator_auto_nw\n",
        ").sum()\n",
        "print(\n",
        "    f'Aggregate direct point elasticity of auto wrt time for non-work: '\n",
        "    f'{direct_elas_term_auto_time_nw:.3g}'\n",
        ")\n",
        "\n",
        "direct_elas_term_transit_time_nw = (\n",
        "    sim_results_nw['Prob. transit']\n",
        "    * sim_results_nw['logit elas. 4']\n",
        "    / denominator_transit_nw\n",
        ").sum()\n",
        "print(\n",
        "    f'Aggregate direct point elasticity of transit wrt time for non-work: '\n",
        "    f'{direct_elas_term_transit_time_nw:.3g}'\n",
        ")"
      ]
    },
    {
      "cell_type": "markdown",
      "metadata": {
        "id": "-Bzb5M06421q"
      },
      "source": [
        "# Home-Based Work Trip Model"
      ]
    },
    {
      "cell_type": "code",
      "execution_count": null,
      "metadata": {
        "id": "GTxbY6Mx421q"
      },
      "outputs": [],
      "source": [
        "hbw_filt = (my_trips.trippurp==\"HBW\")\n",
        "hbw_trips = my_trips.loc[hbw_filt].select_dtypes(exclude=['object'])\n",
        "hbw_trips.fillna(-1, inplace=True)\n",
        "hbw_trips[\"walk_av\"] = (hbw_trips.trpmiles   <=  hbw_trips[hbw_trips.ch_mode==1].trpmiles.max()).astype(int)\n",
        "hbw_trips[\"bike_av\"] = (hbw_trips.trpmiles   <=  hbw_trips[hbw_trips.ch_mode==2].trpmiles.max()).astype(int)\n",
        "hbw_trips[\"auto_av\"] = 1\n",
        "hbw_trips[\"transit_av\"] = 1"
      ]
    },
    {
      "cell_type": "markdown",
      "metadata": {
        "id": "n--qercF421q"
      },
      "source": [
        "We don't want to include a record if it has a negative value in a critical column. We'll filter the dataframe for those important columns."
      ]
    },
    {
      "cell_type": "code",
      "execution_count": null,
      "metadata": {
        "id": "VnP6Cvog421r"
      },
      "outputs": [],
      "source": [
        "# Update based on if you add more columns to models that potentially contain negative numbers\n",
        "check_cols = [\"auto_tt\",\"auto_cost\", \"transit_tt\", \"transit_acct\", \"transit_egrt\", \"transit_waitt\", \"trpmiles\", \"ch_mode\"]\n",
        "hbw_trips = hbw_trips[hbw_trips.loc[:,check_cols].sum(axis=1)>-1]"
      ]
    },
    {
      "cell_type": "code",
      "execution_count": null,
      "metadata": {
        "id": "jkRmiC_L421r",
        "scrolled": true
      },
      "outputs": [],
      "source": [
        "# Need to import data to the Biogeme database structure\n",
        "database = db.Database(\"my_hbw_trips\",hbw_trips)\n",
        "database.data.head()\n",
        "\n",
        "# Define Biogeme variables\n",
        "AUTO_TT = Variable(\"auto_tt\")\n",
        "AUTO_COST = Variable(\"auto_cost\")\n",
        "TRANSIT_TT = Variable(\"transit_tt\")\n",
        "DIST = Variable(\"trpmiles\")\n",
        "CHOICE = Variable(\"ch_mode\")\n",
        "WALK_AV = Variable(\"walk_av\")\n",
        "BIKE_AV = Variable(\"bike_av\")\n",
        "AUTO_AV = Variable(\"auto_av\")\n",
        "TRANSIT_AV = Variable(\"transit_av\")\n",
        "TRANSIT_ACCT = Variable(\"transit_acct\")\n",
        "TRANSIT_EGRT = Variable(\"transit_egrt\")\n",
        "TRANSIT_WAITT = Variable(\"transit_waitt\")"
      ]
    },
    {
      "cell_type": "markdown",
      "metadata": {
        "id": "P-NrXpmg421r"
      },
      "source": [
        "We can then define the names and starting values for the model parameters. There are 5 parameters defined for the base Swiss Metro model. Biogeme uses a constrained optimization to reduce the search space. The Beta function is called as follows:\n",
        "```python\n",
        "Beta(parameter name AS str, initial value AS int, lower bound AS int, upper bound AS int, fixed AS int)\n",
        "```\n",
        "If there are no bounds on the parameter search space, the use may enter: ```None```. A value of ```0``` for the ```fixed``` parameter will allow Biogeme to estimate the parameter. In this case, we have only fixed the ASC for the swiss metro mode, to maintain model indentification."
      ]
    },
    {
      "cell_type": "code",
      "execution_count": null,
      "metadata": {
        "id": "Boc75w7x421r"
      },
      "outputs": [],
      "source": [
        "ASC_WALK = Beta('ASC_WALK',0,None,None,0)\n",
        "ASC_BIKE = Beta('ASC_BIKE',0,None,None,0)\n",
        "ASC_TRANSIT = Beta('ASC_TRANSIT',0,None,None,0)\n",
        "B_TIME = Beta('B_TIME',0,None,None,0)\n",
        "B_COST = Beta('B_COST',0,None,None,0)\n",
        "B_DIST = Beta('B_DIST',0,None,None,0)"
      ]
    },
    {
      "cell_type": "code",
      "execution_count": null,
      "metadata": {
        "colab": {
          "base_uri": "https://localhost:8080/"
        },
        "id": "mwe9q-Y7__hS",
        "outputId": "42bace7d-3691-457a-842d-96dde9166866"
      },
      "outputs": [
        {
          "output_type": "stream",
          "name": "stdout",
          "text": [
            "B_TIME(init=0)\n",
            "B_COST(init=0)\n",
            "B_DIST(init=0)\n"
          ]
        }
      ],
      "source": [
        "print (B_TIME)\n",
        "print (B_COST)\n",
        "print (B_DIST)"
      ]
    },
    {
      "cell_type": "code",
      "execution_count": null,
      "metadata": {
        "colab": {
          "base_uri": "https://localhost:8080/"
        },
        "id": "XCn1t8SMAH97",
        "outputId": "5aa075b8-5ea4-426e-ba6f-0e71089c4da0"
      },
      "outputs": [
        {
          "output_type": "stream",
          "name": "stderr",
          "text": [
            "WARNING:biogeme.models:It is advised to set the bounds on parameter B_COST_BCW. A value of -10 and 10 should be appropriate: Beta(\"B_COST_BCW\", 0, -10, 10, 0)\n"
          ]
        }
      ],
      "source": [
        "B_COST_BCW = Beta('B_COST_BCW',0,None,None,0)\n",
        "AUTO_COST_BCW = models.boxcox(AUTO_COST,B_COST_BCW)"
      ]
    },
    {
      "cell_type": "code",
      "execution_count": null,
      "metadata": {
        "id": "0knr0n28AqLu",
        "colab": {
          "base_uri": "https://localhost:8080/"
        },
        "outputId": "6ebc81de-eddf-470d-8bc1-2b7f81ca848b"
      },
      "outputs": [
        {
          "output_type": "stream",
          "name": "stderr",
          "text": [
            "WARNING:biogeme.models:It is advised to set the bounds on parameter B_TIME_BCW. A value of -10 and 10 should be appropriate: Beta(\"B_TIME_BCW\", 0, -10, 10, 0)\n",
            "WARNING:biogeme.models:It is advised to set the bounds on parameter B_TIME_BCW. A value of -10 and 10 should be appropriate: Beta(\"B_TIME_BCW\", 0, -10, 10, 0)\n"
          ]
        }
      ],
      "source": [
        "B_TIME_BCW = Beta('B_TIME_BCW',0,None,None,0)\n",
        "AUTO_TT_BCW = models.boxcox(AUTO_TT,B_TIME_BCW)\n",
        "TRANSIT_TT_BCW = models.boxcox(TRANSIT_TT, B_TIME_BCW)"
      ]
    },
    {
      "cell_type": "markdown",
      "metadata": {
        "id": "uw59pyl1421r"
      },
      "source": [
        "The next step is to define the utility function for each alternative mode."
      ]
    },
    {
      "cell_type": "code",
      "execution_count": null,
      "metadata": {
        "id": "aOc_B98_421r"
      },
      "outputs": [],
      "source": [
        "V1 = ASC_WALK + \\\n",
        "     B_DIST * DIST\n",
        "V2 = ASC_BIKE + \\\n",
        "     B_DIST * DIST\n",
        "V3 = B_TIME * AUTO_TT_BCW + \\\n",
        "     B_COST * AUTO_COST_BCW\n",
        "V4 = ASC_TRANSIT + \\\n",
        "     B_TIME * TRANSIT_TT_BCW + B_TIME * TRANSIT_WAITT"
      ]
    },
    {
      "cell_type": "markdown",
      "metadata": {
        "id": "yRVaINcx421r"
      },
      "source": [
        "Biogeme has a variety of built-in discrete choice models, which the user can leverage. However, it also allows the user to define their own likelihood function if it is not available in the built-in model library. In this case, we use the built-in ```bioLogLogit``` function to estimate the model."
      ]
    },
    {
      "cell_type": "code",
      "execution_count": null,
      "metadata": {
        "id": "oM1L9t0K421r"
      },
      "outputs": [],
      "source": [
        "# Associate utility functions with the numbering of alternatives\n",
        "V = {1: V1,\n",
        "     2: V2,\n",
        "     3: V3,\n",
        "     4: V4}\n",
        "\n",
        "# Associate the availability conditions with the alternatives\n",
        "\n",
        "av = {1: WALK_AV,\n",
        "      2: BIKE_AV,\n",
        "      3: AUTO_AV,\n",
        "      4: TRANSIT_AV}\n",
        "\n",
        "logprob_w = models.loglogit(V,av,CHOICE)\n",
        "biogeme_w  = bio.BIOGEME(database,logprob_w)\n",
        "biogeme_w.modelName = \"01logit\"\n",
        "rdistesults_w = biogeme_w.estimate()"
      ]
    },
    {
      "cell_type": "markdown",
      "metadata": {
        "id": "XVi1lOW-421r"
      },
      "source": [
        "The results of the model estimation can then be printed to the terminal."
      ]
    },
    {
      "cell_type": "code",
      "execution_count": null,
      "metadata": {
        "id": "hhyUVdPp421s",
        "scrolled": true,
        "colab": {
          "base_uri": "https://localhost:8080/"
        },
        "outputId": "858345bd-8919-4b0a-9ab4-f9f4b471f622"
      },
      "outputs": [
        {
          "output_type": "stream",
          "name": "stdout",
          "text": [
            "                 Value  Rob. Std err  Rob. t-test  Rob. p-value\n",
            "ASC_BIKE    -11.588776      0.407823   -28.416185  0.000000e+00\n",
            "ASC_TRANSIT  -6.297883      1.564737    -4.024882  5.700398e-05\n",
            "ASC_WALK    -10.946939      0.425472   -25.728943  0.000000e+00\n",
            "B_COST      -24.173265      0.184635  -130.924390  0.000000e+00\n",
            "B_COST_BCW   -2.478654      0.001983 -1249.927871  0.000000e+00\n",
            "B_DIST       -1.186812      0.185913    -6.383681  1.728810e-10\n",
            "B_TIME       -0.680973      0.171994    -3.959284  7.517491e-05\n",
            "B_TIME_BCW   -0.211038      0.071543    -2.949791  3.179886e-03\n"
          ]
        }
      ],
      "source": [
        "# Get the results in a pandas table\n",
        "pandasResults_w = rdistesults_w.getEstimatedParameters()\n",
        "print(pandasResults_w)\n"
      ]
    },
    {
      "cell_type": "markdown",
      "metadata": {
        "id": "nUIInPCp421s"
      },
      "source": [
        "**NOTE:** The above model gives appropriate results for the sample CBSA! This may not be true for your dataset. DO NOT submit results with positive cost, distance, or time parameters."
      ]
    },
    {
      "cell_type": "markdown",
      "metadata": {
        "id": "SGDek1nc421s"
      },
      "source": [
        "Biogeme also includes functionalities to compute elasticties for model variables. The elasticity can be calculated directly by the user, but Biogeme also includes functions for calculating derivatives for the user.\n",
        "\n",
        "We have to redefine the model for it to run in a Jupyter notebook, so there is some repetition in the following code. Note: the parameter definitions have been slightly altered to use the calculated betas. These are stored in a dictionary and the values can be accessed through reference to the appropriate dictionary keys."
      ]
    },
    {
      "cell_type": "code",
      "execution_count": null,
      "metadata": {
        "id": "feGC8ane421s"
      },
      "outputs": [],
      "source": [
        "# Get the beta parameters estimated in previous step\n",
        "betas = rdistesults_w.getBetaValues()\n",
        "\n",
        "ASC_WALK = Beta('ASC_WALK',betas['ASC_WALK'],None,None,0)\n",
        "ASC_BIKE = Beta('ASC_BIKE',betas['ASC_BIKE'],None,None,0)\n",
        "ASC_TRANSIT = Beta('ASC_TRANSIT',betas['ASC_TRANSIT'],None,None,0)\n",
        "B_TIME = Beta('B_TIME',betas['B_TIME'],None,None,0)\n",
        "B_COST = Beta('B_COST',betas['B_COST'],None,None,0)\n",
        "B_DIST = Beta('B_DIST',betas['B_DIST'],None,None,0)\n",
        "B_TIME_BCW = Beta('B_TIME_BCW',betas['B_TIME_BCW'],None,None,0)\n",
        "B_COST_BCW = Beta('B_COST_BCW',betas['B_COST_BCW'],None,None,0)\n",
        "\n",
        "prob1_w = models.logit(V,av,1)\n",
        "prob2_w = models.logit(V,av,2)\n",
        "prob3_w = models.logit(V,av,3)\n",
        "prob4_w = models.logit(V,av,4)"
      ]
    },
    {
      "cell_type": "markdown",
      "metadata": {
        "id": "-N9zuj2N421s"
      },
      "source": [
        "We can then calculate the set of elasticities. We can then complete the process using the .simulate() function. This will calculate the probabilities and elasticities for each observation. The Pandas .describe() function is useful to print the statistics for each of these calculated values (i.e. mean, minimum, maximum, standard deviation, percentiles)."
      ]
    },
    {
      "cell_type": "code",
      "execution_count": null,
      "metadata": {
        "id": "PhEe_ES1421s",
        "scrolled": true,
        "colab": {
          "base_uri": "https://localhost:8080/"
        },
        "outputId": "885bb886-925e-4531-ae63-a869165be877"
      },
      "outputs": [
        {
          "output_type": "stream",
          "name": "stderr",
          "text": [
            "WARNING:biogeme.biogeme:The chosen alternative [`1.0`] is not available for the following observations (rownumber[choice]): 0[1.0]-1[1.0]-4[1.0]-5[1.0]-6[1.0]-9[1.0]-10[1.0]-11[1.0]-13[1.0]-15[1.0]-16[1.0]-18[1.0]-19[1.0]-24...\n",
            "The chosen alternative [`2.0`] is not available for the following observations (rownumber[choice]): 0[2.0]-1[2.0]-4[2.0]-5[2.0]-6[2.0]-9[2.0]-10[2.0]-11[2.0]-13[2.0]-15[2.0]-16[2.0]-18[2.0]-19[2.0]-23...\n",
            "The chosen alternative [`1.0`] is not available for the following observations (rownumber[choice]): 0[1.0]-1[1.0]-4[1.0]-5[1.0]-6[1.0]-9[1.0]-10[1.0]-11[1.0]-13[1.0]-15[1.0]-16[1.0]-18[1.0]-19[1.0]-24...\n",
            "The chosen alternative [`2.0`] is not available for the following observations (rownumber[choice]): 0[2.0]-1[2.0]-4[2.0]-5[2.0]-6[2.0]-9[2.0]-10[2.0]-11[2.0]-13[2.0]-15[2.0]-16[2.0]-18[2.0]-19[2.0]-23...\n",
            "WARNING:biogeme.biogeme:The chosen alternative [`1.0`] is not available for the following observations (rownumber[choice]): 0[1.0]-1[1.0]-4[1.0]-5[1.0]-6[1.0]-9[1.0]-10[1.0]-11[1.0]-13[1.0]-15[1.0]-16[1.0]-18[1.0]-19[1.0]-24...\n",
            "WARNING:biogeme.biogeme:The chosen alternative [`2.0`] is not available for the following observations (rownumber[choice]): 0[2.0]-1[2.0]-4[2.0]-5[2.0]-6[2.0]-9[2.0]-10[2.0]-11[2.0]-13[2.0]-15[2.0]-16[2.0]-18[2.0]-19[2.0]-23...\n",
            "WARNING:biogeme.biogeme:The chosen alternative [`1.0`] is not available for the following observations (rownumber[choice]): 0[1.0]-1[1.0]-4[1.0]-5[1.0]-6[1.0]-9[1.0]-10[1.0]-11[1.0]-13[1.0]-15[1.0]-16[1.0]-18[1.0]-19[1.0]-24...\n",
            "WARNING:biogeme.biogeme:The chosen alternative [`2.0`] is not available for the following observations (rownumber[choice]): 0[2.0]-1[2.0]-4[2.0]-5[2.0]-6[2.0]-9[2.0]-10[2.0]-11[2.0]-13[2.0]-15[2.0]-16[2.0]-18[2.0]-19[2.0]-23...\n"
          ]
        },
        {
          "output_type": "stream",
          "name": "stdout",
          "text": [
            "Results=         Prob. walk   Prob. bike   Prob. auto  Prob. transit  logit elas. 1  \\\n",
            "count  2803.000000  2803.000000  2803.000000   2.803000e+03    2803.000000   \n",
            "mean      0.027114     0.014271     0.919372   3.924393e-02      -2.725433   \n",
            "std       0.067783     0.035676     0.124463   7.794184e-02       3.505564   \n",
            "min       0.000000     0.000000     0.035374   2.298514e-11     -11.637763   \n",
            "25%       0.000000     0.000000     0.946262   2.427901e-02      -5.174057   \n",
            "50%       0.000022     0.000000     0.965016   3.033007e-02      -0.423044   \n",
            "75%       0.009444     0.004971     0.971608   3.462688e-02       0.000000   \n",
            "max       0.412257     0.216981     1.000000   9.631881e-01       0.000000   \n",
            "\n",
            "       logit elas. 2  logit elas. 3  logit elas. 4  \n",
            "count    2803.000000    2803.000000    2803.000000  \n",
            "mean       -2.471384      -0.035339      -0.549832  \n",
            "std         3.256771       0.054335       0.054640  \n",
            "min       -10.981461      -0.476528      -0.655451  \n",
            "25%        -4.688466      -0.025552      -0.575825  \n",
            "50%         0.000000      -0.017634      -0.566875  \n",
            "75%         0.000000      -0.013930      -0.531636  \n",
            "max         0.000000       0.000000      -0.017250  \n"
          ]
        }
      ],
      "source": [
        "logitelas1_w = WALK_AV * (1.0 - prob1_w) * DIST * B_DIST\n",
        "logitelas2_w = BIKE_AV * (1.0 - prob2_w) * DIST * B_DIST\n",
        "logitelas3_w = (1.0 - prob3_w) * AUTO_TT_BCW * B_TIME_BCW\n",
        "logitelas4_w = (1.0 - prob4_w) * TRANSIT_TT_BCW * B_TIME_BCW\n",
        "\n",
        "simulate_w = {'Prob. walk': prob1_w,\n",
        "            'Prob. bike': prob2_w,\n",
        "            'Prob. auto':prob3_w,\n",
        "            'Prob. transit':prob4_w,\n",
        "            'logit elas. 1':logitelas1_w,\n",
        "            'logit elas. 2':logitelas2_w,\n",
        "            'logit elas. 3':logitelas3_w,\n",
        "            'logit elas. 4':logitelas4_w}\n",
        "\n",
        "parameter_values = {\n",
        "    'ASC_BIKE': pandasResults_w.loc['ASC_BIKE', 'Value'],\n",
        "    'ASC_TRANSIT': pandasResults_w.loc['ASC_TRANSIT', 'Value'],\n",
        "    'ASC_WALK': pandasResults_w.loc['ASC_WALK', 'Value'],\n",
        "    'B_COST': pandasResults_w.loc['B_COST', 'Value'],\n",
        "    'B_DIST': pandasResults_w.loc['B_DIST', 'Value'],\n",
        "    'B_TIME': pandasResults_w.loc['B_TIME', 'Value'],\n",
        "    'B_COST_BCW': pandasResults_w.loc['B_COST_BCW', 'Value'],\n",
        "    'B_TIME_BCW': pandasResults_w.loc['B_TIME_BCW', 'Value'],\n",
        "}\n",
        "\n",
        "biogeme_w  = bio.BIOGEME(database,simulate_w)\n",
        "biogeme_w.modelName = \"01logit_simul\"\n",
        "sim_results_w = biogeme_w.simulate(theBetaValues=parameter_values)\n",
        "print(\"Results=\",sim_results_w.describe())"
      ]
    },
    {
      "cell_type": "code",
      "execution_count": null,
      "metadata": {
        "id": "Q9RfqHst421s",
        "colab": {
          "base_uri": "https://localhost:8080/"
        },
        "outputId": "a9177d45-da03-46d7-c512-0fddab7f8a33"
      },
      "outputs": [
        {
          "output_type": "stream",
          "name": "stdout",
          "text": [
            "Aggregate direct point elasticity of walk wrt distance: -1.36\n",
            "Aggregate direct point elasticity of bike wrt distance: -1.45\n",
            "Aggregate direct point elasticity of auto wrt time: -0.0282\n",
            "Aggregate direct point elasticity of transit wrt time: -0.46\n"
          ]
        }
      ],
      "source": [
        "# We calculate the aggregate elasticities\n",
        "\n",
        "# First the denominator of the aggregate elasticity expression.\n",
        "denominator_walk_w = sim_results_w['Prob. walk'].sum()\n",
        "denominator_bike_w = sim_results_w['Prob. bike'].sum()\n",
        "denominator_auto_w = sim_results_w['Prob. auto'].sum()\n",
        "denominator_transit_w = sim_results_w['Prob. transit'].sum()\n",
        "\n",
        "# And now the aggregate elasticities themselves.\n",
        "direct_elas_term_walk_dist_w = (\n",
        "    sim_results_w['Prob. walk']\n",
        "    * sim_results_w['logit elas. 1']\n",
        "    / denominator_walk_w\n",
        ").sum()\n",
        "print(\n",
        "    f'Aggregate direct point elasticity of walk wrt distance: '\n",
        "    f'{direct_elas_term_walk_dist_w:.3g}'\n",
        ")\n",
        "\n",
        "direct_elas_term_bike_dist_w = (\n",
        "    sim_results_w['Prob. bike']\n",
        "    * sim_results_w['logit elas. 2']\n",
        "    / denominator_bike_w\n",
        ").sum()\n",
        "print(\n",
        "    f'Aggregate direct point elasticity of bike wrt distance: '\n",
        "    f'{direct_elas_term_bike_dist_w:.3g}'\n",
        ")\n",
        "\n",
        "direct_elas_term_auto_time_w = (\n",
        "    sim_results_w['Prob. auto']\n",
        "    * sim_results_w['logit elas. 3']\n",
        "    / denominator_auto_w\n",
        ").sum()\n",
        "print(\n",
        "    f'Aggregate direct point elasticity of auto wrt time: '\n",
        "    f'{direct_elas_term_auto_time_w:.3g}'\n",
        ")\n",
        "\n",
        "direct_elas_term_transit_time_w = (\n",
        "    sim_results_w['Prob. transit']\n",
        "    * sim_results_w['logit elas. 4']\n",
        "    / denominator_transit_w\n",
        ").sum()\n",
        "print(\n",
        "    f'Aggregate direct point elasticity of transit wrt time: '\n",
        "    f'{direct_elas_term_transit_time_w:.3g}'\n",
        ")"
      ]
    },
    {
      "cell_type": "markdown",
      "metadata": {
        "id": "GQ4Evs68421t"
      },
      "source": [
        "# Supplemental notes\n",
        "Biogeme provides many other functions for viewing results: <br> getGeneralStatistics() <br> getEstimatedParameters() <br> getCorrelationResults() <br> getBetaValues() <br> getRobustVarCovar() <br> getBetasForSensitivityAnalysis()\n",
        "\n",
        "The manuals are also quite helpful: <br>\n",
        "http://biogeme.epfl.ch/documents.html"
      ]
    },
    {
      "cell_type": "markdown",
      "metadata": {
        "id": "doGI1vmyLjJC"
      },
      "source": [
        "# **To Do List:**\n",
        "1. Develop a multinomial logit (MNL) mode choice model for home-based non-work trips. Some experimentation will likely be required to find the “best” model that can be obtained given the available data and the model type chosen. Present and discuss the results of your analysis in terms of the statistical significance of the parameter estimates, the goodness-of-fit of the model, and the rationale for the variables selected for inclusion in the model. Your discussion should also include consideration of elasticity estimates.\n",
        "\n",
        "\n",
        "2. Similarly develop an MNL mode choice model for home-based work trips. Compare your results with those obtained for the home-based non-work trip model with respect to explanatory variables used, parameter statistical significance, and model goodness-of-fit. Discuss likely reasons for these differences (if any). Your discussion should also include consideration of elasticity estimates."
      ]
    },
    {
      "cell_type": "markdown",
      "source": [
        "**Home Based Non-Work Trips Model**\n",
        "\n",
        "-Discuss model chosen\n",
        "\n",
        "-stat significance of model\n",
        "\n",
        "-gof for model\n",
        "\n",
        "-variables included\n",
        "For this model, we decided to not include any additonal variables beyond the variables provided for our model. From the available list of variables, we utlized four utility equations to analyze our data. The first equation included the alternative specific constant of walking multiplied by the distance of the trip and its respective beta parameter. The second equation included the alternative specific constant of biking multiplied by the distance of the trip and its respective beta parameter. The third equation included both the cost of a car, the travel time in the car, and the respective beta parameters for each. The fourth equation included the alternative specific constant of taking public transit, the travel time of the transit method, and the beta parameter associated with both.\n",
        "\n",
        "-elasticity estimates"
      ],
      "metadata": {
        "id": "vJM4GAtSxIHg"
      }
    },
    {
      "cell_type": "markdown",
      "source": [
        "**Home Based Work Trips Model**\n",
        "\n",
        "-Discuss model chosen\n",
        "-stat significance of model\n",
        "-gof for model\n",
        "\n",
        "For this model,  we utlized four utility equations to analyze our data. The first equation included the alternative specific constant of walking multiplied by the distance of the trip and its respective beta parameter. The second equation included the alternative specific constant of biking multiplied by the distance of the trip and its respective beta parameter. The third equation included both the cost of a car, the travel time in the car, and the respective beta parameters for each. The fourth equation included both the cost of transit, the travel time of the transit method, and the beta parameter associated with both.\n",
        "\n",
        "\n",
        "-elasticity estimates"
      ],
      "metadata": {
        "id": "G9Mkauqaxjhl"
      }
    },
    {
      "cell_type": "markdown",
      "source": [
        "**Beta Parameters**\n",
        "\n",
        "For our home-based non-work trip parameters, we began with a negative distance parameter and a positve cost and time parameter. Considering what these parameters represent, this is to be expected. Cost typically is a positive parameter because people tend to be okay with paying more if there are luxury qualities associated with the most expensive cost. Similar to cost, a positive time parameter represents trip makers choosing a longer trip if there are luxuries associated with the trip. However, a negative parameter is expected for all three parameters. To adjust for this a boxcox transformation is used. After using this transformation time parameters, this new parameter was applied to the Transit travel time variable. With this adjustment, all the beta parameters were calculated to be negative.\n",
        "\n",
        "For the home-based work trip parameters, we again begn with a negative distance parameter and a positive cost and time parameter. The same method previously described was used to correct these factors to be negative. For this model, we had to use the boxcox transformation for both the cost and the time parameter. The adjusted cost parameter was applied to the auto cost variable and the adjusted time parameter was applied to the transit travel time and the transit wait time variable."
      ],
      "metadata": {
        "id": "N4uekU8sO87q"
      }
    },
    {
      "cell_type": "markdown",
      "source": [
        "**Comparision of Model**\n"
      ],
      "metadata": {
        "id": "qDUa_thJxqE8"
      }
    }
  ],
  "metadata": {
    "colab": {
      "provenance": [],
      "include_colab_link": true
    },
    "kernelspec": {
      "display_name": "Python 3 (ipykernel)",
      "language": "python",
      "name": "python3"
    },
    "language_info": {
      "codemirror_mode": {
        "name": "ipython",
        "version": 3
      },
      "file_extension": ".py",
      "mimetype": "text/x-python",
      "name": "python",
      "nbconvert_exporter": "python",
      "pygments_lexer": "ipython3",
      "version": "3.10.8"
    }
  },
  "nbformat": 4,
  "nbformat_minor": 0
}